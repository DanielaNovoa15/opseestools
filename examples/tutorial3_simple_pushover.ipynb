{
 "cells": [
  {
   "cell_type": "markdown",
   "id": "b325feb3",
   "metadata": {},
   "source": [
    "# Example of running a pushover using opseestools\n",
    "#### Author: Orlando Arroyo\n",
    "#### email: odarroyo@uc.cl"
   ]
  },
  {
   "cell_type": "markdown",
   "id": "31b39ece",
   "metadata": {},
   "source": [
    "## Loading libraries, including the analysis module of opseestools"
   ]
  },
  {
   "cell_type": "code",
   "execution_count": 1,
   "id": "c1ae5ce6",
   "metadata": {},
   "outputs": [],
   "source": [
    "from openseespy.opensees import *\n",
    "import opsvis as opsv \n",
    "import matplotlib.pyplot as plt \n",
    "import opseestools.analisis as an \n",
    "import numpy as np "
   ]
  },
  {
   "cell_type": "markdown",
   "id": "f3b4812b",
   "metadata": {},
   "source": [
    "## Model definition"
   ]
  },
  {
   "cell_type": "markdown",
   "id": "3c91c0db-4b64-4eed-9e98-556eda7ccf19",
   "metadata": {},
   "source": [
    "#### Define your OpenSeesPy model as you usually do, for example:"
   ]
  },
  {
   "cell_type": "code",
   "execution_count": 2,
   "id": "c993e963",
   "metadata": {},
   "outputs": [
    {
     "data": {
      "image/png": "[encoded data removed]",
      "text/plain": [
       "<Figure size 640x480 with 1 Axes>"
      ]
     },
     "metadata": {},
     "output_type": "display_data"
    }
   ],
   "source": [
    "wipe() # es una buena práctica comenzar con un wipe \n",
    "model('basic','-ndm',2,'-ndf',3)\n",
    "x1 = 6.0\n",
    "x2 = 10.0\n",
    "y1 = 4.0\n",
    "y2 = 7.0\n",
    "\n",
    "# nodes\n",
    "node(1,0.0,0.0)\n",
    "node(2,x1,0.0)\n",
    "node(3,x2,0.0)\n",
    "node(4,0.0,y1)\n",
    "node(5,x1,y1)\n",
    "node(6,x2,y1)\n",
    "node(7,0.0,y2)\n",
    "node(8,x1,y2)\n",
    "node(9,x2,y2)\n",
    "\n",
    "# supports\n",
    "empotrado = [1,1,1]\n",
    "grado2 = [1,1,0] \n",
    "\n",
    "fix(1,*empotrado)\n",
    "fix(2,*empotrado)\n",
    "fix(3,*grado2)\n",
    "\n",
    "# diafragmas\n",
    "equalDOF(4,5,1) # hace que el desplazamiento del nodo 5 en X sea igual que el del nodo 4\n",
    "equalDOF(4,6,1)\n",
    "equalDOF(7,8,1) \n",
    "equalDOF(7,9,1)\n",
    "\n",
    "# masas\n",
    "mass(4,1,1,0) # asignación de masas en X y Y al nodo 4\n",
    "mass(5,1,1,0)\n",
    "mass(6,1,1,0)\n",
    "mass(7,1,1,0)\n",
    "mass(8,1,1,0)\n",
    "mass(9,1,1,0)\n",
    "\n",
    "# Para el concreto no confinado\n",
    "E = 24000000.0 # 24GPa pasados a KPa para hacerlo consistente\n",
    "fc = 28000.0\n",
    "ec = 2*fc/E\n",
    "fcu = 0.2*fc\n",
    "ecu = 0.006\n",
    "\n",
    "# Para el concreto confinado\n",
    "k=1.3\n",
    "fcc=28000.0*k\n",
    "ecc= 2*fcc/E\n",
    "fucc=0.2*fcc\n",
    "eucc=0.02\n",
    "\n",
    "# Para el acero\n",
    "Fy=420000.0\n",
    "Es=210000000.0\n",
    "\n",
    "uniaxialMaterial('Concrete01', 2, fc, ec, fcu, ecu)\n",
    "uniaxialMaterial('Concrete01', 1, fcc, ecc, fucc, eucc)\n",
    "uniaxialMaterial('Steel01', 3, Fy, Es, 0.01)\n",
    "\n",
    "# Se presenta el ejemplo de la creación de una sección de fibras\n",
    "# seccion de 30 x 30 cm con 8 # 4\n",
    "\n",
    "Bcol = 0.3\n",
    "Hcol = 0.3\n",
    "c = 0.05  # recubrimiento \n",
    "\n",
    "# creación de la sección de fibra\n",
    "y1col = Hcol/2.0\n",
    "z1col = Bcol/2.0\n",
    "\n",
    "y2col = 0.5*(Hcol-2*c)/3.0\n",
    "\n",
    "nFibZ = 1\n",
    "nFibZcore= 10\n",
    "nFib = 20\n",
    "nFibCover, nFibCore = 3, 16\n",
    "As4 = 0.000127\n",
    "As5 = 0.0002\n",
    "As7 = 0.000387\n",
    "\n",
    "sec30x30 = 1 # tag de la sección a crear\n",
    "\n",
    "# Se empleará la librería de opsvis que permite visualizar la sección\n",
    "s30x30 = [['section', 'Fiber', sec30x30, '-GJ', 1.0e6],\n",
    "             ['patch', 'rect', 1, nFibCore, nFibZcore, c-y1col, c-z1col, y1col-c, z1col-c],\n",
    "             ['patch', 'rect', 2, nFib, nFibZ, -y1col, -z1col, y1col, c-z1col],\n",
    "             ['patch', 'rect', 2, nFib, nFibZ, -y1col, z1col-c, y1col, z1col],\n",
    "             ['patch', 'rect', 2, nFibCover, nFibZ, -y1col, c-z1col, c-y1col, z1col-c],\n",
    "             ['patch', 'rect', 2, nFibCover, nFibZ, y1col-c, c-z1col, y1col, z1col-c],\n",
    "             ['layer', 'straight', 3, 3, As4, y1col-c, z1col-c, y1col-c, c-z1col],\n",
    "             ['layer', 'straight', 3, 2, As4, y2col, z1col-c, y2col, c-z1col],\n",
    "             ['layer', 'straight', 3, 2, As4, -y2col, z1col-c, -y2col, c-z1col],\n",
    "             ['layer', 'straight', 3, 3, As4, c-y1col, z1col-c, c-y1col, c-z1col]]\n",
    "\n",
    "# Los siguientes comandos dibujan la sección para saber que nos quedó bien\n",
    "matcolor = ['r', 'lightgrey', 'gold', 'w', 'w', 'w']\n",
    "#plt.figure()\n",
    "#opsv.plot_fiber_section(s30x30, matcolor=matcolor)\n",
    "#plt.axis('equal')\n",
    "\n",
    "# El siguiente comando es el que propiamente crea la sección escribiendo el código definido en la lista\n",
    "opsv.fib_sec_list_to_cmds(s30x30)\n",
    "\n",
    "# Para generar los elementos de fibras deberá indicarse los puntos de integración y el esquema de integración\n",
    "pint = 5 # puntos de integración\n",
    "beamIntegration('Lobatto', sec30x30, sec30x30,pint) # esquema de integración\n",
    "\n",
    "# Transformaciones del los elementos\n",
    "lineal = 1\n",
    "geomTransf('Linear',lineal) # transformación lineal\n",
    "\n",
    "pdelta = 2\n",
    "geomTransf('PDelta',pdelta) # transformación lineal\n",
    "\n",
    "# Columnas\n",
    "element('forceBeamColumn',1, 1,4 ,pdelta,sec30x30)\n",
    "element('forceBeamColumn',2, 4,7 ,pdelta,sec30x30)\n",
    "element('forceBeamColumn',3, 2,5 ,pdelta,sec30x30)\n",
    "element('forceBeamColumn',4, 5,8 ,pdelta,sec30x30)\n",
    "element('forceBeamColumn',5, 3,6 ,pdelta,sec30x30) \n",
    "element('forceBeamColumn',6, 6,9 ,pdelta,sec30x30) \n",
    "\n",
    "# Vigas\n",
    "element('forceBeamColumn',7, 4,5 ,lineal,sec30x30)\n",
    "element('forceBeamColumn',8, 5,6 ,lineal,sec30x30)\n",
    "element('forceBeamColumn',9, 7,8 ,lineal,sec30x30) \n",
    "element('forceBeamColumn',10, 8,9 ,lineal,sec30x30) \n",
    "\n",
    "# para ver el modelo\n",
    "opsv.plot_model()\n",
    "\n",
    "timeSeries('Linear', 1)\n",
    "pattern('Plain',1,1)\n",
    "# El comando eleload asigna una carga al elemento:\n",
    "vigas = [7,8,9,10] # tags de los elementos vigas\n",
    "wviga = 20 # carga disitriibuida sobre la viga\n",
    "eleLoad('-ele',*vigas,'-type','beamUniform',-wviga) # aplicación de la carga sobre la viga"
   ]
  },
  {
   "cell_type": "markdown",
   "id": "3f4c5194",
   "metadata": {},
   "source": [
    "## Running gravity analysis using opseestools"
   ]
  },
  {
   "cell_type": "code",
   "execution_count": 3,
   "id": "ea932bbe",
   "metadata": {},
   "outputs": [],
   "source": [
    "an.gravedad()\n",
    "loadConst('-time',0.0)"
   ]
  },
  {
   "cell_type": "markdown",
   "id": "6f10606e",
   "metadata": {},
   "source": [
    "## Running pushover analysis using opseestools"
   ]
  },
  {
   "cell_type": "code",
   "execution_count": 5,
   "id": "ba671fb3",
   "metadata": {},
   "outputs": [
    {
     "data": {
      "text/plain": [
       "Text(0, 0.5, 'Base shear (kN)')"
      ]
     },
     "execution_count": 5,
     "metadata": {},
     "output_type": "execute_result"
    },
    {
     "data": {
      "image/png": "[encoded data removed]",
      "text/plain": [
       "<Figure size 640x480 with 1 Axes>"
      ]
     },
     "metadata": {},
     "output_type": "display_data"
    }
   ],
   "source": [
    "dtecho, Vbasal = an.pushover2(0.05*y2, 0.001, 9, 1)\n",
    "plt.xlabel('Roof displacement (m)')\n",
    "plt.ylabel('Base shear (kN)')"
   ]
  },
  {
   "cell_type": "markdown",
   "id": "42ebd034-810d-4e1a-8ae2-c64fd5e0a19c",
   "metadata": {},
   "source": [
    "### For each function in opseestools, you can read its docstring using the Python help command and get information about its inputs and outputs"
   ]
  },
  {
   "cell_type": "code",
   "execution_count": 6,
   "id": "7f7620ab-abcb-4ef0-88f8-38ea8372f200",
   "metadata": {},
   "outputs": [
    {
     "name": "stdout",
     "output_type": "stream",
     "text": [
      "Help on function pushover2 in module opseestools.analisis:\n",
      "\n",
      "pushover2(Dmax, Dincr, IDctrlNode, IDctrlDOF, norm=[-1, 1], Tol=1e-08)\n",
      "    Function to calculate the pushover\n",
      "    \n",
      "    Parameters\n",
      "    ----------\n",
      "    Dmax : float\n",
      "        Maximum displacement of the pushover.\n",
      "    Dincr : float\n",
      "        Increment in the displacement.\n",
      "    IDctrlNode : int\n",
      "        control node for the displacements.\n",
      "    IDctrlDOF : int\n",
      "        DOF for the displacement.\n",
      "    norm : list, optional\n",
      "        List that includes the roof displacement and the building weight to normalize the pushover and display the roof drift vs V/W plot. The default is [-1,1].\n",
      "    Tol : float, optional\n",
      "        Norm tolerance. The default is 1e-8.\n",
      "    \n",
      "    Returns\n",
      "    -------\n",
      "    techo : numpy array\n",
      "        Numpy array with the roof displacement recorded during the Pushover.\n",
      "    V : numpy array\n",
      "        Numpy array with the base shear (when using an unitary patter) recorded during the Pushover. If pattern if not unitary it returns the multiplier\n",
      "\n"
     ]
    }
   ],
   "source": [
    "help(an.pushover2)"
   ]
  }
 ],
 "metadata": {
  "kernelspec": {
   "display_name": "Python 3 (ipykernel)",
   "language": "python",
   "name": "python3"
  },
  "language_info": {
   "codemirror_mode": {
    "name": "ipython",
    "version": 3
   },
   "file_extension": ".py",
   "mimetype": "text/x-python",
   "name": "python",
   "nbconvert_exporter": "python",
   "pygments_lexer": "ipython3",
   "version": "3.11.5"
  }
 },
 "nbformat": 4,
 "nbformat_minor": 5
}
