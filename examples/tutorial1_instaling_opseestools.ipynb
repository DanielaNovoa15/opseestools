{
 "cells": [
  {
   "cell_type": "markdown",
   "id": "e9a0e4e8-a0d2-4b4f-8c12-78949a07fc04",
   "metadata": {},
   "source": [
    "## 1. Installing opseestools"
   ]
  },
  {
   "cell_type": "markdown",
   "id": "bd258530-ee04-449d-a5a4-35d477545b6f",
   "metadata": {},
   "source": [
    "### opseestools works with OpenSeesPy. If you install it using pip, it will automatically install OpenSeesPy, Numpy and Pandas, which are requisites for it to work properly. For these tutorials, it is recommended to also install opsvis"
   ]
  },
  {
   "cell_type": "code",
   "execution_count": 2,
   "id": "f77126df-ac98-4f5c-9621-70599d6d5720",
   "metadata": {
    "tags": []
   },
   "outputs": [],
   "source": [
    "pip install opseestools\n",
    "pip install opsvis"
   ]
  },
  {
   "cell_type": "code",
   "execution_count": null,
   "id": "fdbdfd90-a22a-474b-b79d-6d16f8839a8a",
   "metadata": {},
   "outputs": [],
   "source": []
  }
 ],
 "metadata": {
  "kernelspec": {
   "display_name": "Python 3 (ipykernel)",
   "language": "python",
   "name": "python3"
  },
  "language_info": {
   "codemirror_mode": {
    "name": "ipython",
    "version": 3
   },
   "file_extension": ".py",
   "mimetype": "text/x-python",
   "name": "python",
   "nbconvert_exporter": "python",
   "pygments_lexer": "ipython3",
   "version": "3.11.5"
  }
 },
 "nbformat": 4,
 "nbformat_minor": 5
}
